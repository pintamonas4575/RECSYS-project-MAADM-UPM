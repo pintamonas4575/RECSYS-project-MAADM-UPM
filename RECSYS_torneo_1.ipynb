{
 "cells": [
  {
   "cell_type": "markdown",
   "metadata": {},
   "source": [
    "# **FILTRADO COLABORATIVO**\n",
    "\n",
    "Álvaro Fraile, Jaime Álvarez, Alejandro Mendoza\n",
    "\n",
    "https://www.kaggle.com/competitions/recsys-filtrado-colaborativo-24-25"
   ]
  },
  {
   "cell_type": "code",
   "execution_count": 14,
   "metadata": {},
   "outputs": [],
   "source": [
    "import time\n",
    "import pandas as pd\n",
    "import matplotlib.pyplot as plt\n",
    "from sklearn.model_selection import train_test_split\n",
    "from surprise.model_selection import GridSearchCV\n",
    "from surprise import Dataset, Reader, KNNBasic, KNNWithZScore\n",
    "from surprise import accuracy\n",
    "from surprise import SVD, NMF, SVDpp"
   ]
  },
  {
   "cell_type": "markdown",
   "metadata": {},
   "source": [
    "## Lectura y preprocesamiento de datos"
   ]
  },
  {
   "cell_type": "code",
   "execution_count": 2,
   "metadata": {},
   "outputs": [
    {
     "name": "stdout",
     "output_type": "stream",
     "text": [
      "Tamaño del conjunto de entrenamiento: 312280\n",
      "Tamaño del conjunto de prueba: 78071\n",
      "Tamaño del conjunto de envío: 43320\n",
      "Promedio de valoraciones: 7.601796464711157\n",
      "Desviación estándar de valoraciones: 1.8423898868091482\n"
     ]
    }
   ],
   "source": [
    "train_data = pd.read_csv('data/recsys-filtrado-colaborativo-24-25/train.csv')\n",
    "submission_data = pd.read_csv('data/recsys-filtrado-colaborativo-24-25/test.csv')\n",
    "\n",
    "# Dividir los datos en conjuntos de entrenamiento y prueba, dejando una copia del conjunto de entrenamiento intacta\n",
    "train_data_copy = train_data.copy()\n",
    "train_data, test_data = train_test_split(train_data, test_size=0.2, random_state=42)\n",
    "\n",
    "print(f\"Tamaño del conjunto de entrenamiento: {len(train_data)}\")\n",
    "print(f\"Tamaño del conjunto de prueba: {len(test_data)}\")\n",
    "print(f\"Tamaño del conjunto de envío: {len(submission_data)}\")\n",
    "\n",
    "# Calcular el promedio y la desviación estándar de las valoraciones\n",
    "avg_rating = train_data['rating'].mean()\n",
    "std_rating = train_data['rating'].std()\n",
    "\n",
    "print(f\"Promedio de valoraciones: {avg_rating}\")\n",
    "print(f\"Desviación estándar de valoraciones: {std_rating}\")"
   ]
  },
  {
   "cell_type": "code",
   "execution_count": 3,
   "metadata": {},
   "outputs": [],
   "source": [
    "# El formato de Surprise requiere un archivo en el siguiente formato (usuario, item, rating).\n",
    "# Convertimos el dataframe de train al formato adecuado para Surprise\n",
    "reader = Reader(rating_scale=(1, 10))  # Definir el rango de las valoraciones (1 a 10)\n",
    "train_data_surprise = Dataset.load_from_df(train_data[['user', 'item', 'rating']], reader)\n",
    "\n",
    "# Crear el conjunto de entrenamiento\n",
    "trainset = train_data_surprise.build_full_trainset()\n",
    "\n",
    "# Convert the test_data DataFrame to a list of tuples (user, item, rating)\n",
    "testset = list(test_data[['user', 'item', 'rating']].itertuples(index=False, name=None))"
   ]
  },
  {
   "cell_type": "markdown",
   "metadata": {},
   "source": [
    "## Modelos"
   ]
  },
  {
   "cell_type": "code",
   "execution_count": 4,
   "metadata": {},
   "outputs": [],
   "source": [
    "RMSEs = {}"
   ]
  },
  {
   "cell_type": "markdown",
   "metadata": {},
   "source": [
    "### SVD"
   ]
  },
  {
   "cell_type": "code",
   "execution_count": 5,
   "metadata": {},
   "outputs": [
    {
     "name": "stdout",
     "output_type": "stream",
     "text": [
      "Processing epoch 0\n",
      "Processing epoch 1\n",
      "Processing epoch 2\n",
      "Processing epoch 3\n",
      "Processing epoch 4\n",
      "Processing epoch 5\n",
      "Processing epoch 6\n",
      "Processing epoch 7\n",
      "Processing epoch 8\n",
      "Processing epoch 9\n",
      "Processing epoch 10\n",
      "Processing epoch 11\n",
      "Processing epoch 12\n",
      "Processing epoch 13\n",
      "Processing epoch 14\n",
      "Processing epoch 15\n",
      "Processing epoch 16\n",
      "Processing epoch 17\n",
      "Processing epoch 18\n",
      "Processing epoch 19\n",
      "RMSE: 1.6478\n",
      "******* Tiempo de entrenamiento SVD: 0 minutos y 4 segundos *******\n"
     ]
    }
   ],
   "source": [
    "start = time.time()\n",
    "\n",
    "svd = SVD(verbose=True)\n",
    "svd.fit(trainset)\n",
    "predictions = svd.test(testset)\n",
    "rmse = accuracy.rmse(predictions)\n",
    "RMSEs['SVD'] = rmse\n",
    "\n",
    "minutos, segundos = divmod(time.time() - start, 60)\n",
    "print(f\"******* Tiempo de entrenamiento SVD: {int(minutos)} minutos y {int(segundos)} segundos *******\")"
   ]
  },
  {
   "cell_type": "code",
   "execution_count": 6,
   "metadata": {},
   "outputs": [
    {
     "name": "stdout",
     "output_type": "stream",
     "text": [
      "Lower than 0: 35864\n",
      "Equal to 0: 120\n",
      "Greater than 0: 42087\n",
      "Proportion of lower than 0: 0.4593767211896863\n"
     ]
    },
    {
     "data": {
      "image/png": "[encoded data removed]",
      "text/plain": [
       "<Figure size 640x480 with 1 Axes>"
      ]
     },
     "metadata": {},
     "output_type": "display_data"
    }
   ],
   "source": [
    "# Calculate the absolute differences between real and predicted ratings\n",
    "differences = [pred.r_ui - pred.est for pred in predictions]\n",
    "\n",
    "# Count the number of differences lower than 0, equal to 0, and greater than 0\n",
    "lower_than_zero = sum(diff < 0 for diff in differences)\n",
    "equal_to_zero = sum(diff == 0 for diff in differences)\n",
    "greater_than_zero = sum(diff > 0 for diff in differences)\n",
    "\n",
    "print(f\"Lower than 0: {lower_than_zero}\")\n",
    "print(f\"Equal to 0: {equal_to_zero}\")\n",
    "print(f\"Greater than 0: {greater_than_zero}\")\n",
    "print(f\"Proportion of lower than 0: {lower_than_zero / len(differences)}\")\n",
    "\n",
    "# Create a box plot for the differences\n",
    "plt.boxplot(differences, tick_labels=['Differences'])\n",
    "plt.ylabel('Absolute Difference')\n",
    "plt.title('Box Plot of Differences Between Real and Predicted Ratings')\n",
    "plt.show()"
   ]
  },
  {
   "cell_type": "markdown",
   "metadata": {},
   "source": [
    "### NMF"
   ]
  },
  {
   "cell_type": "code",
   "execution_count": 7,
   "metadata": {},
   "outputs": [
    {
     "name": "stdout",
     "output_type": "stream",
     "text": [
      "Processing epoch 0\n",
      "Processing epoch 1\n",
      "Processing epoch 2\n",
      "Processing epoch 3\n",
      "Processing epoch 4\n",
      "Processing epoch 5\n",
      "Processing epoch 6\n",
      "Processing epoch 7\n",
      "Processing epoch 8\n",
      "Processing epoch 9\n",
      "Processing epoch 10\n",
      "Processing epoch 11\n",
      "Processing epoch 12\n",
      "Processing epoch 13\n",
      "Processing epoch 14\n",
      "Processing epoch 15\n",
      "Processing epoch 16\n",
      "Processing epoch 17\n",
      "Processing epoch 18\n",
      "Processing epoch 19\n",
      "Processing epoch 20\n",
      "Processing epoch 21\n",
      "Processing epoch 22\n",
      "Processing epoch 23\n",
      "Processing epoch 24\n",
      "Processing epoch 25\n",
      "Processing epoch 26\n",
      "Processing epoch 27\n",
      "Processing epoch 28\n",
      "Processing epoch 29\n",
      "Processing epoch 30\n",
      "Processing epoch 31\n",
      "Processing epoch 32\n",
      "Processing epoch 33\n",
      "Processing epoch 34\n",
      "Processing epoch 35\n",
      "Processing epoch 36\n",
      "Processing epoch 37\n",
      "Processing epoch 38\n",
      "Processing epoch 39\n",
      "Processing epoch 40\n",
      "Processing epoch 41\n",
      "Processing epoch 42\n",
      "Processing epoch 43\n",
      "Processing epoch 44\n",
      "Processing epoch 45\n",
      "Processing epoch 46\n",
      "Processing epoch 47\n",
      "Processing epoch 48\n",
      "Processing epoch 49\n",
      "RMSE: 2.4489\n",
      "******* Tiempo de entrenamiento NMF: 0 minutos y 12 segundos *******\n"
     ]
    }
   ],
   "source": [
    "start = time.time()\n",
    "\n",
    "nmf = NMF(verbose=True)\n",
    "nmf.fit(trainset)\n",
    "predictions = nmf.test(testset)\n",
    "rmse = accuracy.rmse(predictions)\n",
    "RMSEs['NMF'] = rmse\n",
    "\n",
    "minutos, segundos = divmod(time.time() - start, 60)\n",
    "print(f\"******* Tiempo de entrenamiento NMF: {int(minutos)} minutos y {int(segundos)} segundos *******\")"
   ]
  },
  {
   "cell_type": "markdown",
   "metadata": {},
   "source": [
    "### SVDpp"
   ]
  },
  {
   "cell_type": "code",
   "execution_count": 8,
   "metadata": {},
   "outputs": [
    {
     "name": "stdout",
     "output_type": "stream",
     "text": [
      " processing epoch 0\n",
      " processing epoch 1\n",
      " processing epoch 2\n",
      " processing epoch 3\n",
      " processing epoch 4\n",
      " processing epoch 5\n",
      " processing epoch 6\n",
      " processing epoch 7\n",
      " processing epoch 8\n",
      " processing epoch 9\n",
      " processing epoch 10\n",
      " processing epoch 11\n",
      " processing epoch 12\n",
      " processing epoch 13\n",
      " processing epoch 14\n",
      " processing epoch 15\n",
      " processing epoch 16\n",
      " processing epoch 17\n",
      " processing epoch 18\n",
      " processing epoch 19\n",
      "RMSE: 1.6592\n",
      "******* Tiempo de entrenamiento SVD++: 1 minutos y 7 segundos *******\n"
     ]
    }
   ],
   "source": [
    "start = time.time()\n",
    "\n",
    "svdpp = SVDpp(verbose=True, cache_ratings=True)\n",
    "svdpp.fit(trainset)\n",
    "predictions = svdpp.test(testset)\n",
    "rmse = accuracy.rmse(predictions)\n",
    "RMSEs['SVDpp'] = rmse\n",
    "\n",
    "minutos, segundos = divmod(time.time() - start, 60)\n",
    "print(f\"******* Tiempo de entrenamiento SVD++: {int(minutos)} minutos y {int(segundos)} segundos *******\")"
   ]
  },
  {
   "cell_type": "code",
   "execution_count": 9,
   "metadata": {},
   "outputs": [
    {
     "name": "stdout",
     "output_type": "stream",
     "text": [
      "Lower than 0: 36041\n",
      "Equal to 0: 258\n",
      "Greater than 0: 41772\n",
      "Proportion of lower than 0: 0.46164388825556224\n"
     ]
    },
    {
     "data": {
      "image/png": "[encoded data removed]",
      "text/plain": [
       "<Figure size 640x480 with 1 Axes>"
      ]
     },
     "metadata": {},
     "output_type": "display_data"
    }
   ],
   "source": [
    "# Calculate the absolute differences between real and predicted ratings\n",
    "differences = [pred.r_ui - pred.est for pred in predictions]\n",
    "\n",
    "# Count the number of differences lower than 0, equal to 0, and greater than 0\n",
    "lower_than_zero = sum(diff < 0 for diff in differences)\n",
    "equal_to_zero = sum(diff == 0 for diff in differences)\n",
    "greater_than_zero = sum(diff > 0 for diff in differences)\n",
    "\n",
    "print(f\"Lower than 0: {lower_than_zero}\")\n",
    "print(f\"Equal to 0: {equal_to_zero}\")\n",
    "print(f\"Greater than 0: {greater_than_zero}\")\n",
    "print(f\"Proportion of lower than 0: {lower_than_zero / len(differences)}\")\n",
    "\n",
    "# Create a box plot for the differences\n",
    "plt.boxplot(differences, tick_labels=['Differences'])\n",
    "plt.ylabel('Absolute Difference')\n",
    "plt.title('Box Plot of Differences Between Real and Predicted Ratings')\n",
    "plt.show()\n"
   ]
  },
  {
   "cell_type": "markdown",
   "metadata": {},
   "source": [
    "### KNN basic"
   ]
  },
  {
   "cell_type": "code",
   "execution_count": 10,
   "metadata": {},
   "outputs": [
    {
     "name": "stdout",
     "output_type": "stream",
     "text": [
      "Computing the msd similarity matrix...\n",
      "Done computing similarity matrix.\n",
      "RMSE: 1.9284\n",
      "******* Tiempo de entrenamiento KNN basic: 0 minutos y 55 segundos *******\n"
     ]
    }
   ],
   "source": [
    "start = time.time()\n",
    "\n",
    "knnb = KNNBasic(k=80, sim_options={'name': 'msd', 'user_based': True, 'implicit': True}, verbose=True)\n",
    "knnb.fit(trainset)\n",
    "predictions = knnb.test(testset)\n",
    "rmse = accuracy.rmse(predictions)\n",
    "RMSEs['KNNBasic'] = rmse\n",
    "\n",
    "minutos, segundos = divmod(time.time() - start, 60)\n",
    "print(f\"******* Tiempo de entrenamiento KNN basic: {int(minutos)} minutos y {int(segundos)} segundos *******\")"
   ]
  },
  {
   "cell_type": "markdown",
   "metadata": {},
   "source": [
    "### KNN with Z-Score"
   ]
  },
  {
   "cell_type": "code",
   "execution_count": 11,
   "metadata": {},
   "outputs": [
    {
     "name": "stdout",
     "output_type": "stream",
     "text": [
      "Computing the msd similarity matrix...\n",
      "Done computing similarity matrix.\n",
      "RMSE: 1.8389\n",
      "******* Tiempo de entrenamiento KNN with Z-Score: 1 minutos y 13 segundos *******\n"
     ]
    }
   ],
   "source": [
    "start = time.time()\n",
    "\n",
    "knnz = KNNWithZScore(k=40, sim_options={'name': 'msd', 'user_based': True, 'implicit': False}, verbose=True)\n",
    "knnz.fit(trainset)\n",
    "predictions = knnz.test(testset)\n",
    "rmse = accuracy.rmse(predictions)\n",
    "RMSEs['KNNWithZScore'] = rmse\n",
    "\n",
    "minutos, segundos = divmod(time.time() - start, 60)\n",
    "print(f\"******* Tiempo de entrenamiento KNN with Z-Score: {int(minutos)} minutos y {int(segundos)} segundos *******\")"
   ]
  },
  {
   "cell_type": "markdown",
   "metadata": {},
   "source": [
    "## Analysis"
   ]
  },
  {
   "cell_type": "code",
   "execution_count": 12,
   "metadata": {},
   "outputs": [
    {
     "data": {
      "image/png": "[encoded data removed]",
      "text/plain": [
       "<Figure size 640x480 with 1 Axes>"
      ]
     },
     "metadata": {},
     "output_type": "display_data"
    }
   ],
   "source": [
    "plt.bar(RMSEs.keys(), RMSEs.values(), color=['blue', 'green', 'red'])\n",
    "plt.xlabel('Model')\n",
    "plt.ylabel('RMSE')\n",
    "plt.title('RMSEs of Different Models')\n",
    "plt.show()"
   ]
  },
  {
   "cell_type": "markdown",
   "metadata": {},
   "source": [
    "## Optimizacion de parametros"
   ]
  },
  {
   "cell_type": "code",
   "execution_count": 15,
   "metadata": {},
   "outputs": [
    {
     "name": "stderr",
     "output_type": "stream",
     "text": [
      "[Parallel(n_jobs=-1)]: Using backend LokyBackend with 16 concurrent workers.\n",
      "[Parallel(n_jobs=-1)]: Done   9 tasks      | elapsed:    7.2s\n",
      "[Parallel(n_jobs=-1)]: Done 130 tasks      | elapsed:  1.9min\n"
     ]
    },
    {
     "name": "stdout",
     "output_type": "stream",
     "text": [
      "***** Mejores hiperparámetros: {'n_factors': 50, 'n_epochs': 40, 'lr_all': 0.005, 'reg_all': 0.2} *****\n",
      "***** Mejor RMSE: 1.6509937654556766 *****\n",
      "******* Tiempo de GridSearchCV: 4 minutos y 10 segundos *******\n"
     ]
    },
    {
     "name": "stderr",
     "output_type": "stream",
     "text": [
      "[Parallel(n_jobs=-1)]: Done 243 out of 243 | elapsed:  4.1min finished\n"
     ]
    }
   ],
   "source": [
    "start = time.time()\n",
    "\n",
    "param_grid = {\n",
    "    'n_factors': [50, 100, 150],\n",
    "    'n_epochs': [20, 40, 60],\n",
    "    'lr_all': [0.002, 0.005, 0.01],\n",
    "    'reg_all': [0.02, 0.1, 0.2]\n",
    "}\n",
    "\n",
    "grid_search = GridSearchCV(SVD, param_grid, measures=['rmse'], cv=3, n_jobs=-1, joblib_verbose=2)\n",
    "grid_search.fit(train_data_surprise)\n",
    "\n",
    "# Obtener los mejores hiperparámetros y el mejor RMSE\n",
    "best_params = grid_search.best_params['rmse']\n",
    "best_rmse = grid_search.best_score['rmse']\n",
    "\n",
    "print(f\"***** Mejores hiperparámetros: {best_params} *****\")\n",
    "print(f\"***** Mejor RMSE: {best_rmse} *****\")\n",
    "\n",
    "minutos, segundos = divmod(time.time() - start, 60)\n",
    "print(f\"******* Tiempo de GridSearchCV: {int(minutos)} minutos y {int(segundos)} segundos *******\")"
   ]
  },
  {
   "cell_type": "markdown",
   "metadata": {},
   "source": [
    "## Final Predictions"
   ]
  },
  {
   "cell_type": "code",
   "execution_count": null,
   "metadata": {},
   "outputs": [
    {
     "name": "stdout",
     "output_type": "stream",
     "text": [
      " processing epoch 0\n",
      " processing epoch 1\n",
      " processing epoch 2\n",
      " processing epoch 3\n",
      " processing epoch 4\n",
      " processing epoch 5\n",
      " processing epoch 6\n",
      " processing epoch 7\n",
      " processing epoch 8\n",
      " processing epoch 9\n",
      " processing epoch 10\n",
      " processing epoch 11\n",
      " processing epoch 12\n",
      " processing epoch 13\n",
      " processing epoch 14\n",
      " processing epoch 15\n",
      " processing epoch 16\n",
      " processing epoch 17\n",
      " processing epoch 18\n",
      " processing epoch 19\n",
      "RMSE: 0.9678\n",
      "******* Tiempo de mejor modelo: 1 minutos y 44 segundos *******\n"
     ]
    }
   ],
   "source": [
    "# Seleccionar el mejor modelo\n",
    "# model = NMF(verbose=True, n_factors=100, n_epochs=50)\n",
    "# model = SVD(verbose=True)\n",
    "model = SVDpp(verbose=True)\n",
    "\n",
    "start = time.time()\n",
    "\n",
    "reader = Reader(rating_scale=(1, 10))  # Definir el rango de las valoraciones (1 a 10)\n",
    "train_data_surprise = Dataset.load_from_df(train_data_copy[['user', 'item', 'rating']], reader)\n",
    "\n",
    "# Crear el conjunto de entrenamiento\n",
    "trainset = train_data_surprise.build_full_trainset()\n",
    "model.fit(trainset)\n",
    "\n",
    "predictions = model.test(testset)\n",
    "rmse = accuracy.rmse(predictions)\n",
    "\n",
    "minutos, segundos = divmod(time.time() - start, 60)\n",
    "print(f\"******* Tiempo de mejor modelo: {int(minutos)} minutos y {int(segundos)} segundos *******\")"
   ]
  },
  {
   "cell_type": "code",
   "execution_count": 17,
   "metadata": {},
   "outputs": [],
   "source": [
    "# Predecir las valoraciones para el conjunto de prueba\n",
    "predictions = []\n",
    "for _, user, item in submission_data[['ID', 'user', 'item']].values:\n",
    "    pred = model.predict(user, item)\n",
    "    predictions.append(pred.est)\n",
    "\n",
    "# Añadir las predicciones al dataframe de test con redondeo\n",
    "# submission_data['rating'] = [round(pred) for pred in predictions]\n",
    "# submission_data['rating'] = [min(max(round(pred), 1), 10) for pred in predictions]\n",
    "# submission_data['rating'] = [int(pred) for pred in predictions]\n",
    "# submission_data['rating'] = predictions\n",
    "# submission_data['rating'] = [round(pred * 2) / 2 for pred in predictions]\n",
    "\n",
    "submission_path = 'predictions_tournament_1/predictions_svd_rounded.csv'\n",
    "rounding_threshold = 0.45  # Define the threshold for rounding\n",
    "submission_data['rating'] = [int(pred) + (1 if (pred - int(pred)) >= rounding_threshold else 0) for pred in predictions]\n",
    "submission_data[['ID', 'rating']].to_csv(submission_path, index=False)"
   ]
  }
 ],
 "metadata": {
  "kernelspec": {
   "display_name": ".venv",
   "language": "python",
   "name": "python3"
  },
  "language_info": {
   "codemirror_mode": {
    "name": "ipython",
    "version": 3
   },
   "file_extension": ".py",
   "mimetype": "text/x-python",
   "name": "python",
   "nbconvert_exporter": "python",
   "pygments_lexer": "ipython3",
   "version": "3.12.0"
  }
 },
 "nbformat": 4,
 "nbformat_minor": 2
}
