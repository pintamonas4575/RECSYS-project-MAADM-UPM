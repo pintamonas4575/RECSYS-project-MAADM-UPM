{
 "cells": [
  {
   "cell_type": "markdown",
   "metadata": {},
   "source": [
    "# FILTRADO COLABORATIVO"
   ]
  },
  {
   "cell_type": "code",
   "execution_count": 1,
   "metadata": {},
   "outputs": [],
   "source": [
    "from surprise import Dataset, Reader, KNNBasic\n",
    "from surprise.model_selection import train_test_split\n",
    "from surprise import accuracy\n",
    "from surprise import SVD\n",
    "from surprise import NMF\n",
    "from surprise import SVDpp\n",
    "\n",
    "import pandas as pd\n",
    "from sklearn.model_selection import train_test_split"
   ]
  },
  {
   "cell_type": "markdown",
   "metadata": {},
   "source": [
    "## Lectura y preprocesamiento de datos"
   ]
  },
  {
   "cell_type": "code",
   "execution_count": 2,
   "metadata": {},
   "outputs": [
    {
     "name": "stdout",
     "output_type": "stream",
     "text": [
      "Tamaño del conjunto de entrenamiento: 312280\n",
      "Tamaño del conjunto de prueba: 78071\n",
      "Tamaño del conjunto de envío: 43320\n"
     ]
    }
   ],
   "source": [
    "# Cargar los datos\n",
    "train_data = pd.read_csv('./data/recsys-filtrado-colaborativo-24-25/train.csv')\n",
    "# Dividir los datos en conjuntos de entrenamiento y prueba, dejando una copia del conjunto de entrenamiento intacta\n",
    "train_data_copy = train_data.copy()\n",
    "train_data, test_data = train_test_split(train_data, test_size=0.2, random_state=42)\n",
    "\n",
    "submission_data = pd.read_csv('./data/recsys-filtrado-colaborativo-24-25/test.csv')\n",
    "\n",
    "# Imprimir los tamaños de los conjuntos de datos\n",
    "print(f\"Tamaño del conjunto de entrenamiento: {len(train_data)}\")\n",
    "print(f\"Tamaño del conjunto de prueba: {len(test_data)}\")\n",
    "print(f\"Tamaño del conjunto de envío: {len(submission_data)}\")"
   ]
  },
  {
   "cell_type": "code",
   "execution_count": 3,
   "metadata": {},
   "outputs": [],
   "source": [
    "# El formato de Surprise requiere un archivo en el siguiente formato (usuario, item, rating).\n",
    "# Convertimos el dataframe de train al formato adecuado para Surprise\n",
    "reader = Reader(rating_scale=(1, 10))  # Definir el rango de las valoraciones (1 a 10)\n",
    "train_data_surprise = Dataset.load_from_df(train_data[['user', 'item', 'rating']], reader)\n",
    "\n",
    "# Crear el conjunto de entrenamiento\n",
    "trainset = train_data_surprise.build_full_trainset()\n",
    "\n",
    "# Convert the test_data DataFrame to a list of tuples (user, item, rating)\n",
    "testset = list(test_data[['user', 'item', 'rating']].itertuples(index=False, name=None))"
   ]
  },
  {
   "cell_type": "markdown",
   "metadata": {},
   "source": [
    "## Modelos"
   ]
  },
  {
   "cell_type": "code",
   "execution_count": 4,
   "metadata": {},
   "outputs": [],
   "source": [
    "RMSEs = {}"
   ]
  },
  {
   "cell_type": "markdown",
   "metadata": {},
   "source": [
    "### SVD"
   ]
  },
  {
   "cell_type": "code",
   "execution_count": 7,
   "metadata": {},
   "outputs": [
    {
     "name": "stdout",
     "output_type": "stream",
     "text": [
      "Processing epoch 0\n",
      "Processing epoch 1\n",
      "Processing epoch 2\n",
      "Processing epoch 3\n",
      "Processing epoch 4\n",
      "Processing epoch 5\n",
      "Processing epoch 6\n",
      "Processing epoch 7\n",
      "Processing epoch 8\n",
      "Processing epoch 9\n",
      "Processing epoch 10\n",
      "Processing epoch 11\n",
      "Processing epoch 12\n",
      "Processing epoch 13\n",
      "Processing epoch 14\n",
      "Processing epoch 15\n",
      "Processing epoch 16\n",
      "Processing epoch 17\n",
      "Processing epoch 18\n",
      "Processing epoch 19\n",
      "RMSE: 1.6487\n"
     ]
    }
   ],
   "source": [
    "# Usar SVD como algoritmo\n",
    "svd = SVD(verbose=True)\n",
    "\n",
    "# Entrenar el modelo\n",
    "svd.fit(trainset)\n",
    "\n",
    "# Generate predictions for the testset\n",
    "predictions = svd.test(testset)\n",
    "\n",
    "# Calculate RMSE\n",
    "rmse = accuracy.rmse(predictions)\n",
    "RMSEs['SVD'] = rmse"
   ]
  },
  {
   "cell_type": "markdown",
   "metadata": {},
   "source": [
    "### NMF"
   ]
  },
  {
   "cell_type": "code",
   "execution_count": 5,
   "metadata": {},
   "outputs": [
    {
     "name": "stdout",
     "output_type": "stream",
     "text": [
      "Processing epoch 0\n",
      "Processing epoch 1\n",
      "Processing epoch 2\n",
      "Processing epoch 3\n",
      "Processing epoch 4\n",
      "Processing epoch 5\n",
      "Processing epoch 6\n",
      "Processing epoch 7\n",
      "Processing epoch 8\n",
      "Processing epoch 9\n",
      "Processing epoch 10\n",
      "Processing epoch 11\n",
      "Processing epoch 12\n",
      "Processing epoch 13\n",
      "Processing epoch 14\n",
      "Processing epoch 15\n",
      "Processing epoch 16\n",
      "Processing epoch 17\n",
      "Processing epoch 18\n",
      "Processing epoch 19\n",
      "Processing epoch 20\n",
      "Processing epoch 21\n",
      "Processing epoch 22\n",
      "Processing epoch 23\n",
      "Processing epoch 24\n",
      "Processing epoch 25\n",
      "Processing epoch 26\n",
      "Processing epoch 27\n",
      "Processing epoch 28\n",
      "Processing epoch 29\n",
      "Processing epoch 30\n",
      "Processing epoch 31\n",
      "Processing epoch 32\n",
      "Processing epoch 33\n",
      "Processing epoch 34\n",
      "Processing epoch 35\n",
      "Processing epoch 36\n",
      "Processing epoch 37\n",
      "Processing epoch 38\n",
      "Processing epoch 39\n",
      "Processing epoch 40\n",
      "Processing epoch 41\n",
      "Processing epoch 42\n",
      "Processing epoch 43\n",
      "Processing epoch 44\n",
      "Processing epoch 45\n",
      "Processing epoch 46\n",
      "Processing epoch 47\n",
      "Processing epoch 48\n",
      "Processing epoch 49\n",
      "RMSE: 2.4602\n"
     ]
    }
   ],
   "source": [
    "nmf = NMF(verbose=True)\n",
    "# Entrenar el modelo\n",
    "nmf.fit(trainset)\n",
    "# Generate predictions for the testset\n",
    "predictions = nmf.test(testset)\n",
    "# Calculate RMSE\n",
    "rmse = accuracy.rmse(predictions)\n",
    "RMSEs['NMF'] = rmse"
   ]
  },
  {
   "cell_type": "markdown",
   "metadata": {},
   "source": [
    "### SVDpp"
   ]
  },
  {
   "cell_type": "code",
   "execution_count": 9,
   "metadata": {},
   "outputs": [
    {
     "name": "stdout",
     "output_type": "stream",
     "text": [
      " processing epoch 0\n",
      " processing epoch 1\n",
      " processing epoch 2\n",
      " processing epoch 3\n",
      " processing epoch 4\n",
      " processing epoch 5\n",
      " processing epoch 6\n",
      " processing epoch 7\n",
      " processing epoch 8\n",
      " processing epoch 9\n",
      " processing epoch 10\n",
      " processing epoch 11\n",
      " processing epoch 12\n",
      " processing epoch 13\n",
      " processing epoch 14\n",
      " processing epoch 15\n",
      " processing epoch 16\n",
      " processing epoch 17\n",
      " processing epoch 18\n",
      " processing epoch 19\n",
      "RMSE: 1.6570\n"
     ]
    }
   ],
   "source": [
    "svdpp = SVDpp(verbose=True, cache_ratings=True)\n",
    "\n",
    "# Entrenar el modelo\n",
    "svdpp.fit(trainset)\n",
    "# Generate predictions for the testset\n",
    "predictions = svdpp.test(testset)\n",
    "# Calculate RMSE\n",
    "rmse = accuracy.rmse(predictions)\n",
    "RMSEs['SVDpp'] = rmse"
   ]
  },
  {
   "cell_type": "markdown",
   "metadata": {},
   "source": [
    "### KNN basic"
   ]
  },
  {
   "cell_type": "code",
   "execution_count": 21,
   "metadata": {},
   "outputs": [
    {
     "name": "stdout",
     "output_type": "stream",
     "text": [
      "Computing the msd similarity matrix...\n",
      "Done computing similarity matrix.\n",
      "RMSE: 1.9284\n"
     ]
    }
   ],
   "source": [
    "from surprise import KNNBasic\n",
    "\n",
    "knnb = KNNBasic(k=80, sim_options={'name': 'msd', 'user_based': True, 'implicit': True}, verbose=True)\n",
    "# Entrenar el modelo\n",
    "knnb.fit(trainset)\n",
    "# Generate predictions for the testset\n",
    "predictions = knnb.test(testset)\n",
    "# Calculate RMSE\n",
    "rmse = accuracy.rmse(predictions)\n",
    "RMSEs['KNNBasic'] = rmse"
   ]
  },
  {
   "cell_type": "markdown",
   "metadata": {},
   "source": [
    "### KNN with Z-Score"
   ]
  },
  {
   "cell_type": "code",
   "execution_count": 5,
   "metadata": {},
   "outputs": [
    {
     "name": "stdout",
     "output_type": "stream",
     "text": [
      "Computing the msd similarity matrix...\n",
      "Done computing similarity matrix.\n",
      "RMSE: 1.8389\n"
     ]
    }
   ],
   "source": [
    "from surprise import KNNWithZScore\n",
    "knnz = KNNWithZScore(k=40, sim_options={'name': 'msd', 'user_based': True, 'implicit': False}, verbose=True)\n",
    "# Entrenar el modelo\n",
    "knnz.fit(trainset)\n",
    "# Generate predictions for the testset\n",
    "predictions = knnz.test(testset)\n",
    "# Calculate RMSE\n",
    "rmse = accuracy.rmse(predictions)\n",
    "RMSEs['KNNWithZScore'] = rmse"
   ]
  },
  {
   "cell_type": "markdown",
   "metadata": {},
   "source": [
    "## Analysis"
   ]
  },
  {
   "cell_type": "code",
   "execution_count": 22,
   "metadata": {},
   "outputs": [
    {
     "data": {
      "image/png": "[encoded data removed]",
      "text/plain": [
       "<Figure size 640x480 with 1 Axes>"
      ]
     },
     "metadata": {},
     "output_type": "display_data"
    }
   ],
   "source": [
    "import matplotlib.pyplot as plt\n",
    "\n",
    "# Plot the RMSEs\n",
    "plt.bar(RMSEs.keys(), RMSEs.values(), color=['blue', 'green', 'red'])\n",
    "plt.xlabel('Model')\n",
    "plt.ylabel('RMSE')\n",
    "plt.title('RMSEs of Different Models')\n",
    "plt.show()"
   ]
  },
  {
   "cell_type": "markdown",
   "metadata": {},
   "source": [
    "## Final Predictions"
   ]
  },
  {
   "cell_type": "code",
   "execution_count": 9,
   "metadata": {},
   "outputs": [
    {
     "name": "stdout",
     "output_type": "stream",
     "text": [
      "Processing epoch 0\n",
      "Processing epoch 1\n",
      "Processing epoch 2\n",
      "Processing epoch 3\n",
      "Processing epoch 4\n",
      "Processing epoch 5\n",
      "Processing epoch 6\n",
      "Processing epoch 7\n",
      "Processing epoch 8\n",
      "Processing epoch 9\n",
      "Processing epoch 10\n",
      "Processing epoch 11\n",
      "Processing epoch 12\n",
      "Processing epoch 13\n",
      "Processing epoch 14\n",
      "Processing epoch 15\n",
      "Processing epoch 16\n",
      "Processing epoch 17\n",
      "Processing epoch 18\n",
      "Processing epoch 19\n",
      "Processing epoch 20\n",
      "Processing epoch 21\n",
      "Processing epoch 22\n",
      "Processing epoch 23\n",
      "Processing epoch 24\n",
      "Processing epoch 25\n",
      "Processing epoch 26\n",
      "Processing epoch 27\n",
      "Processing epoch 28\n",
      "Processing epoch 29\n",
      "Processing epoch 30\n",
      "Processing epoch 31\n",
      "Processing epoch 32\n",
      "Processing epoch 33\n",
      "Processing epoch 34\n",
      "Processing epoch 35\n",
      "Processing epoch 36\n",
      "Processing epoch 37\n",
      "Processing epoch 38\n",
      "Processing epoch 39\n",
      "Processing epoch 40\n",
      "Processing epoch 41\n",
      "Processing epoch 42\n",
      "Processing epoch 43\n",
      "Processing epoch 44\n",
      "Processing epoch 45\n",
      "Processing epoch 46\n",
      "Processing epoch 47\n",
      "Processing epoch 48\n",
      "Processing epoch 49\n",
      "RMSE: 1.8816\n"
     ]
    }
   ],
   "source": [
    "# Seleccionar el mejor modelo\n",
    "model = NMF(verbose=True, n_factors=100, n_epochs=50)\n",
    "\n",
    "reader = Reader(rating_scale=(1, 10))  # Definir el rango de las valoraciones (1 a 10)\n",
    "train_data_surprise = Dataset.load_from_df(train_data_copy[['user', 'item', 'rating']], reader)\n",
    "\n",
    "# Crear el conjunto de entrenamiento\n",
    "trainset = train_data_surprise.build_full_trainset()\n",
    "\n",
    "# Entrenar el modelo\n",
    "model.fit(trainset)\n",
    "# Generate predictions for the testset\n",
    "predictions = nmf.test(testset)\n",
    "# Calculate RMSE\n",
    "rmse = accuracy.rmse(predictions)"
   ]
  },
  {
   "cell_type": "code",
   "execution_count": 10,
   "metadata": {},
   "outputs": [],
   "source": [
    "# Predecir las valoraciones para el conjunto de prueba\n",
    "predictions = []\n",
    "for _, user, item in submission_data[['ID', 'user', 'item']].values:\n",
    "    pred = model.predict(user, item)\n",
    "    predictions.append(pred.est)\n",
    "\n",
    "# Añadir las predicciones al dataframe de test\n",
    "submission_data['rating'] = predictions\n",
    "\n",
    "# Guardar las predicciones en un archivo CSV\n",
    "submission_data[['ID', 'rating']].to_csv('predictions_nmf.csv', index=False)"
   ]
  },
  {
   "cell_type": "code",
   "execution_count": null,
   "metadata": {},
   "outputs": [],
   "source": []
  }
 ],
 "metadata": {
  "kernelspec": {
   "display_name": ".venv",
   "language": "python",
   "name": "python3"
  },
  "language_info": {
   "codemirror_mode": {
    "name": "ipython",
    "version": 3
   },
   "file_extension": ".py",
   "mimetype": "text/x-python",
   "name": "python",
   "nbconvert_exporter": "python",
   "pygments_lexer": "ipython3",
   "version": "3.10.0"
  }
 },
 "nbformat": 4,
 "nbformat_minor": 2
}
