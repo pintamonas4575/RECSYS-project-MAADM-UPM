{
 "cells": [
  {
   "cell_type": "markdown",
   "id": "f8eeafe4",
   "metadata": {},
   "source": [
    "# **Filtrado basado en contenido**\n",
    "\n",
    "Álvaro Fraile, Jaime Álvarez, Alejandro Mendoza"
   ]
  },
  {
   "cell_type": "markdown",
   "id": "ce9e441b",
   "metadata": {},
   "source": [
    "## Imports"
   ]
  },
  {
   "cell_type": "code",
   "execution_count": null,
   "id": "4f10d4e9",
   "metadata": {},
   "outputs": [],
   "source": []
  },
  {
   "cell_type": "markdown",
   "id": "bb1edd6f",
   "metadata": {},
   "source": [
    "## Dataset"
   ]
  },
  {
   "cell_type": "code",
   "execution_count": null,
   "id": "8480dedd",
   "metadata": {},
   "outputs": [],
   "source": []
  },
  {
   "cell_type": "markdown",
   "id": "334a27d0",
   "metadata": {},
   "source": [
    "## Modelos"
   ]
  },
  {
   "cell_type": "code",
   "execution_count": null,
   "id": "cb307f6f",
   "metadata": {},
   "outputs": [],
   "source": []
  }
 ],
 "metadata": {
  "language_info": {
   "name": "python"
  }
 },
 "nbformat": 4,
 "nbformat_minor": 5
}
