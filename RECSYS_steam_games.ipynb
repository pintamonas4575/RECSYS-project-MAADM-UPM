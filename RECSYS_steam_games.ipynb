{
 "cells": [
  {
   "cell_type": "markdown",
   "metadata": {},
   "source": [
    "# **Filtrado basado en contenido**\n",
    "\n",
    "https://www.kaggle.com/datasets/nikdavis/steam-store-games?resource=download"
   ]
  },
  {
   "cell_type": "code",
   "execution_count": 14,
   "metadata": {},
   "outputs": [],
   "source": [
    "import time\n",
    "import pandas as pd\n",
    "import numpy as np\n",
    "from sklearn.feature_extraction.text import TfidfVectorizer\n",
    "from sklearn.metrics.pairwise import cosine_distances\n",
    "from sentence_transformers import SentenceTransformer\n",
    "from sentence_transformers.util import cos_sim"
   ]
  },
  {
   "cell_type": "code",
   "execution_count": 8,
   "metadata": {},
   "outputs": [
    {
     "data": {
      "text/html": [
       "<div>\n",
       "<style scoped>\n",
       "    .dataframe tbody tr th:only-of-type {\n",
       "        vertical-align: middle;\n",
       "    }\n",
       "\n",
       "    .dataframe tbody tr th {\n",
       "        vertical-align: top;\n",
       "    }\n",
       "\n",
       "    .dataframe thead th {\n",
       "        text-align: right;\n",
       "    }\n",
       "</style>\n",
       "<table border=\"1\" class=\"dataframe\">\n",
       "  <thead>\n",
       "    <tr style=\"text-align: right;\">\n",
       "      <th></th>\n",
       "      <th>appid</th>\n",
       "      <th>name</th>\n",
       "      <th>release_date</th>\n",
       "      <th>english</th>\n",
       "      <th>developer</th>\n",
       "      <th>publisher</th>\n",
       "      <th>platforms</th>\n",
       "      <th>required_age</th>\n",
       "      <th>categories</th>\n",
       "      <th>genres</th>\n",
       "      <th>...</th>\n",
       "      <th>negative_ratings</th>\n",
       "      <th>average_playtime</th>\n",
       "      <th>median_playtime</th>\n",
       "      <th>owners</th>\n",
       "      <th>price</th>\n",
       "      <th>appid_desc</th>\n",
       "      <th>detailed_description</th>\n",
       "      <th>about_the_game</th>\n",
       "      <th>short_description</th>\n",
       "      <th>content</th>\n",
       "    </tr>\n",
       "  </thead>\n",
       "  <tbody>\n",
       "    <tr>\n",
       "      <th>0</th>\n",
       "      <td>10</td>\n",
       "      <td>Counter-Strike</td>\n",
       "      <td>2000-11-01</td>\n",
       "      <td>1</td>\n",
       "      <td>Valve</td>\n",
       "      <td>Valve</td>\n",
       "      <td>windows;mac;linux</td>\n",
       "      <td>0</td>\n",
       "      <td>Multi-player;Online Multi-Player;Local Multi-P...</td>\n",
       "      <td>Action</td>\n",
       "      <td>...</td>\n",
       "      <td>3339</td>\n",
       "      <td>17612</td>\n",
       "      <td>317</td>\n",
       "      <td>10000000-20000000</td>\n",
       "      <td>7.19</td>\n",
       "      <td>240.0</td>\n",
       "      <td>THE NEXT INSTALLMENT OF THE WORLD'S # 1 ONLINE...</td>\n",
       "      <td>THE NEXT INSTALLMENT OF THE WORLD'S # 1 ONLINE...</td>\n",
       "      <td>Just updated to include player stats, achievem...</td>\n",
       "      <td>Counter-Strike THE NEXT INSTALLMENT OF THE WOR...</td>\n",
       "    </tr>\n",
       "    <tr>\n",
       "      <th>1</th>\n",
       "      <td>20</td>\n",
       "      <td>Team Fortress Classic</td>\n",
       "      <td>1999-04-01</td>\n",
       "      <td>1</td>\n",
       "      <td>Valve</td>\n",
       "      <td>Valve</td>\n",
       "      <td>windows;mac;linux</td>\n",
       "      <td>0</td>\n",
       "      <td>Multi-player;Online Multi-Player;Local Multi-P...</td>\n",
       "      <td>Action</td>\n",
       "      <td>...</td>\n",
       "      <td>633</td>\n",
       "      <td>277</td>\n",
       "      <td>62</td>\n",
       "      <td>5000000-10000000</td>\n",
       "      <td>3.99</td>\n",
       "      <td>500.0</td>\n",
       "      <td>From Valve (the creators of Counter-Strike, Ha...</td>\n",
       "      <td>From Valve (the creators of Counter-Strike, Ha...</td>\n",
       "      <td>From Valve (the creators of Counter-Strike, Ha...</td>\n",
       "      <td>Team Fortress Classic From Valve (the creators...</td>\n",
       "    </tr>\n",
       "    <tr>\n",
       "      <th>2</th>\n",
       "      <td>30</td>\n",
       "      <td>Day of Defeat</td>\n",
       "      <td>2003-05-01</td>\n",
       "      <td>1</td>\n",
       "      <td>Valve</td>\n",
       "      <td>Valve</td>\n",
       "      <td>windows;mac;linux</td>\n",
       "      <td>0</td>\n",
       "      <td>Multi-player;Valve Anti-Cheat enabled</td>\n",
       "      <td>Action</td>\n",
       "      <td>...</td>\n",
       "      <td>398</td>\n",
       "      <td>187</td>\n",
       "      <td>34</td>\n",
       "      <td>5000000-10000000</td>\n",
       "      <td>3.99</td>\n",
       "      <td>1500.0</td>\n",
       "      <td>Combining fast-paced action with strategic bat...</td>\n",
       "      <td>Combining fast-paced action with strategic bat...</td>\n",
       "      <td>Combining fast-paced action with strategic bat...</td>\n",
       "      <td>Day of Defeat Combining fast-paced action with...</td>\n",
       "    </tr>\n",
       "    <tr>\n",
       "      <th>3</th>\n",
       "      <td>40</td>\n",
       "      <td>Deathmatch Classic</td>\n",
       "      <td>2001-06-01</td>\n",
       "      <td>1</td>\n",
       "      <td>Valve</td>\n",
       "      <td>Valve</td>\n",
       "      <td>windows;mac;linux</td>\n",
       "      <td>0</td>\n",
       "      <td>Multi-player;Online Multi-Player;Local Multi-P...</td>\n",
       "      <td>Action</td>\n",
       "      <td>...</td>\n",
       "      <td>267</td>\n",
       "      <td>258</td>\n",
       "      <td>184</td>\n",
       "      <td>5000000-10000000</td>\n",
       "      <td>3.99</td>\n",
       "      <td>1700.0</td>\n",
       "      <td>This critically acclaimed first-person RPG tak...</td>\n",
       "      <td>This critically acclaimed first-person RPG tak...</td>\n",
       "      <td>This critically acclaimed first-person RPG tak...</td>\n",
       "      <td>Deathmatch Classic This critically acclaimed f...</td>\n",
       "    </tr>\n",
       "    <tr>\n",
       "      <th>4</th>\n",
       "      <td>50</td>\n",
       "      <td>Half-Life: Opposing Force</td>\n",
       "      <td>1999-11-01</td>\n",
       "      <td>1</td>\n",
       "      <td>Gearbox Software</td>\n",
       "      <td>Valve</td>\n",
       "      <td>windows;mac;linux</td>\n",
       "      <td>0</td>\n",
       "      <td>Single-player;Multi-player;Valve Anti-Cheat en...</td>\n",
       "      <td>Action</td>\n",
       "      <td>...</td>\n",
       "      <td>288</td>\n",
       "      <td>624</td>\n",
       "      <td>415</td>\n",
       "      <td>5000000-10000000</td>\n",
       "      <td>3.99</td>\n",
       "      <td>2300.0</td>\n",
       "      <td>Let the Obsession begin. Again.&lt;br /&gt;\\r\\n\\t\\t\\...</td>\n",
       "      <td>Let the Obsession begin. Again.&lt;br /&gt;\\r\\n\\t\\t\\...</td>\n",
       "      <td>Let the Obsession begin. Again. This time, the...</td>\n",
       "      <td>Half-Life: Opposing Force Let the Obsession be...</td>\n",
       "    </tr>\n",
       "  </tbody>\n",
       "</table>\n",
       "<p>5 rows × 23 columns</p>\n",
       "</div>"
      ],
      "text/plain": [
       "   appid                       name release_date  english         developer  \\\n",
       "0     10             Counter-Strike   2000-11-01        1             Valve   \n",
       "1     20      Team Fortress Classic   1999-04-01        1             Valve   \n",
       "2     30              Day of Defeat   2003-05-01        1             Valve   \n",
       "3     40         Deathmatch Classic   2001-06-01        1             Valve   \n",
       "4     50  Half-Life: Opposing Force   1999-11-01        1  Gearbox Software   \n",
       "\n",
       "  publisher          platforms  required_age  \\\n",
       "0     Valve  windows;mac;linux             0   \n",
       "1     Valve  windows;mac;linux             0   \n",
       "2     Valve  windows;mac;linux             0   \n",
       "3     Valve  windows;mac;linux             0   \n",
       "4     Valve  windows;mac;linux             0   \n",
       "\n",
       "                                          categories  genres  ...  \\\n",
       "0  Multi-player;Online Multi-Player;Local Multi-P...  Action  ...   \n",
       "1  Multi-player;Online Multi-Player;Local Multi-P...  Action  ...   \n",
       "2              Multi-player;Valve Anti-Cheat enabled  Action  ...   \n",
       "3  Multi-player;Online Multi-Player;Local Multi-P...  Action  ...   \n",
       "4  Single-player;Multi-player;Valve Anti-Cheat en...  Action  ...   \n",
       "\n",
       "  negative_ratings  average_playtime  median_playtime             owners  \\\n",
       "0             3339             17612              317  10000000-20000000   \n",
       "1              633               277               62   5000000-10000000   \n",
       "2              398               187               34   5000000-10000000   \n",
       "3              267               258              184   5000000-10000000   \n",
       "4              288               624              415   5000000-10000000   \n",
       "\n",
       "   price  appid_desc                               detailed_description  \\\n",
       "0   7.19       240.0  THE NEXT INSTALLMENT OF THE WORLD'S # 1 ONLINE...   \n",
       "1   3.99       500.0  From Valve (the creators of Counter-Strike, Ha...   \n",
       "2   3.99      1500.0  Combining fast-paced action with strategic bat...   \n",
       "3   3.99      1700.0  This critically acclaimed first-person RPG tak...   \n",
       "4   3.99      2300.0  Let the Obsession begin. Again.<br />\\r\\n\\t\\t\\...   \n",
       "\n",
       "                                      about_the_game  \\\n",
       "0  THE NEXT INSTALLMENT OF THE WORLD'S # 1 ONLINE...   \n",
       "1  From Valve (the creators of Counter-Strike, Ha...   \n",
       "2  Combining fast-paced action with strategic bat...   \n",
       "3  This critically acclaimed first-person RPG tak...   \n",
       "4  Let the Obsession begin. Again.<br />\\r\\n\\t\\t\\...   \n",
       "\n",
       "                                   short_description  \\\n",
       "0  Just updated to include player stats, achievem...   \n",
       "1  From Valve (the creators of Counter-Strike, Ha...   \n",
       "2  Combining fast-paced action with strategic bat...   \n",
       "3  This critically acclaimed first-person RPG tak...   \n",
       "4  Let the Obsession begin. Again. This time, the...   \n",
       "\n",
       "                                             content  \n",
       "0  Counter-Strike THE NEXT INSTALLMENT OF THE WOR...  \n",
       "1  Team Fortress Classic From Valve (the creators...  \n",
       "2  Day of Defeat Combining fast-paced action with...  \n",
       "3  Deathmatch Classic This critically acclaimed f...  \n",
       "4  Half-Life: Opposing Force Let the Obsession be...  \n",
       "\n",
       "[5 rows x 23 columns]"
      ]
     },
     "execution_count": 8,
     "metadata": {},
     "output_type": "execute_result"
    }
   ],
   "source": [
    "raw_games = pd.read_csv('data/steam_games/steam.csv')\n",
    "raw_descriptions = pd.read_csv('data/steam_games/steam_description_data.csv')\n",
    "raw_descriptions.rename(columns={'steam_appid': 'appid'}, inplace=True)\n",
    "\n",
    "games_df = raw_games.join(raw_descriptions, on='appid', rsuffix='_desc')\n",
    "games_df['content'] = games_df['name'].fillna(\"\") + \" \" + games_df['detailed_description'].fillna(\"\")\n",
    "games_df.head()"
   ]
  },
  {
   "cell_type": "markdown",
   "metadata": {},
   "source": [
    "## **Game search**"
   ]
  },
  {
   "cell_type": "code",
   "execution_count": 4,
   "metadata": {},
   "outputs": [
    {
     "data": {
      "text/html": [
       "<div>\n",
       "<style scoped>\n",
       "    .dataframe tbody tr th:only-of-type {\n",
       "        vertical-align: middle;\n",
       "    }\n",
       "\n",
       "    .dataframe tbody tr th {\n",
       "        vertical-align: top;\n",
       "    }\n",
       "\n",
       "    .dataframe thead th {\n",
       "        text-align: right;\n",
       "    }\n",
       "</style>\n",
       "<table border=\"1\" class=\"dataframe\">\n",
       "  <thead>\n",
       "    <tr style=\"text-align: right;\">\n",
       "      <th></th>\n",
       "      <th>appid</th>\n",
       "      <th>name</th>\n",
       "      <th>release_date</th>\n",
       "      <th>english</th>\n",
       "      <th>developer</th>\n",
       "      <th>publisher</th>\n",
       "      <th>platforms</th>\n",
       "      <th>required_age</th>\n",
       "      <th>categories</th>\n",
       "      <th>genres</th>\n",
       "      <th>...</th>\n",
       "      <th>negative_ratings</th>\n",
       "      <th>average_playtime</th>\n",
       "      <th>median_playtime</th>\n",
       "      <th>owners</th>\n",
       "      <th>price</th>\n",
       "      <th>appid_desc</th>\n",
       "      <th>detailed_description</th>\n",
       "      <th>about_the_game</th>\n",
       "      <th>short_description</th>\n",
       "      <th>content</th>\n",
       "    </tr>\n",
       "  </thead>\n",
       "  <tbody>\n",
       "    <tr>\n",
       "      <th>1133</th>\n",
       "      <td>108600</td>\n",
       "      <td>Project Zomboid</td>\n",
       "      <td>2013-11-08</td>\n",
       "      <td>1</td>\n",
       "      <td>The Indie Stone</td>\n",
       "      <td>The Indie Stone</td>\n",
       "      <td>windows;mac;linux</td>\n",
       "      <td>0</td>\n",
       "      <td>Single-player;Multi-player;Co-op;Shared/Split ...</td>\n",
       "      <td>Indie;RPG;Simulation;Early Access</td>\n",
       "      <td>...</td>\n",
       "      <td>2606</td>\n",
       "      <td>658</td>\n",
       "      <td>701</td>\n",
       "      <td>500000-1000000</td>\n",
       "      <td>9.99</td>\n",
       "      <td>NaN</td>\n",
       "      <td>NaN</td>\n",
       "      <td>NaN</td>\n",
       "      <td>NaN</td>\n",
       "      <td>Project Zomboid</td>\n",
       "    </tr>\n",
       "  </tbody>\n",
       "</table>\n",
       "<p>1 rows × 23 columns</p>\n",
       "</div>"
      ],
      "text/plain": [
       "       appid             name release_date  english        developer  \\\n",
       "1133  108600  Project Zomboid   2013-11-08        1  The Indie Stone   \n",
       "\n",
       "            publisher          platforms  required_age  \\\n",
       "1133  The Indie Stone  windows;mac;linux             0   \n",
       "\n",
       "                                             categories  \\\n",
       "1133  Single-player;Multi-player;Co-op;Shared/Split ...   \n",
       "\n",
       "                                 genres  ... negative_ratings  \\\n",
       "1133  Indie;RPG;Simulation;Early Access  ...             2606   \n",
       "\n",
       "      average_playtime  median_playtime          owners  price  appid_desc  \\\n",
       "1133               658              701  500000-1000000   9.99         NaN   \n",
       "\n",
       "     detailed_description  about_the_game  short_description           content  \n",
       "1133                  NaN             NaN                NaN  Project Zomboid   \n",
       "\n",
       "[1 rows x 23 columns]"
      ]
     },
     "execution_count": 4,
     "metadata": {},
     "output_type": "execute_result"
    }
   ],
   "source": [
    "games_df[games_df['name'].str.contains('zomboid', case=False)]"
   ]
  },
  {
   "cell_type": "code",
   "execution_count": 9,
   "metadata": {},
   "outputs": [
    {
     "name": "stdout",
     "output_type": "stream",
     "text": [
      "(27075, 15000)\n"
     ]
    }
   ],
   "source": [
    "tfidf = TfidfVectorizer(stop_words='english', max_features=15000, ngram_range=(1,2)).fit_transform(games_df['content'])\n",
    "print(tfidf.shape)\n",
    "\n",
    "cosine_matrix = cosine_distances(tfidf)"
   ]
  },
  {
   "cell_type": "markdown",
   "metadata": {},
   "source": [
    "## **Similar games to another game**"
   ]
  },
  {
   "cell_type": "code",
   "execution_count": 10,
   "metadata": {},
   "outputs": [
    {
     "name": "stdout",
     "output_type": "stream",
     "text": [
      "top 10 juegos más parecidos a *** Project Zomboid ***\n",
      "Project Zomboid:  0.00000\n",
      "The Troma Project:  0.00000\n",
      "The Solus Project:  0.00000\n",
      "Project: Gorgon:  0.00000\n",
      "The Apotheosis Project:  0.00000\n",
      "Project Tarvotan:  0.00000\n",
      "Project Highrise:  0.00000\n",
      "Project Pulsation:  0.00000\n",
      "Project Graviton:  0.00000\n",
      "Project G:  0.00000\n"
     ]
    }
   ],
   "source": [
    "print(f\"top 10 juegos más parecidos a *** {games_df.iloc[1133]['name']} ***\")\n",
    "idxs = sorted(enumerate(cosine_matrix[1133]), key=lambda x: x[1], reverse=False)\n",
    "\n",
    "for i, score in idxs[:10]:\n",
    "    print(f\"{games_df.iloc[i]['name']}: {score: .5f}\")"
   ]
  },
  {
   "cell_type": "markdown",
   "metadata": {},
   "source": [
    "## **Recommending games to a person**"
   ]
  },
  {
   "cell_type": "code",
   "execution_count": 12,
   "metadata": {},
   "outputs": [],
   "source": [
    "player_ids = [1223, 1334, 1445, 1556]\n",
    "d = tfidf[player_ids].sum(axis=0)\n",
    "d = np.asarray(d).reshape(1, -1)\n",
    "d = cosine_distances(d, tfidf)[0]"
   ]
  },
  {
   "cell_type": "code",
   "execution_count": 13,
   "metadata": {},
   "outputs": [
    {
     "name": "stdout",
     "output_type": "stream",
     "text": [
      "Top 10 juegos más parecidos a *** jugador misterioso ***\n",
      "Street Fighter V:  0.59221\n",
      "Don Bradman Cricket 17:  0.61451\n",
      "Don Bradman Cricket 17 Demo:  0.63446\n",
      "Ultra Street Fighter® IV:  0.67715\n",
      "Arkhangel: The House of the Seven Stars:  0.70572\n",
      "TEKKEN 7:  0.71067\n",
      "The Race for the White House:  0.72094\n",
      "J.U.L.I.A.: Among the Stars:  0.72823\n",
      "Devouring Stars:  0.72823\n",
      "Into the Stars:  0.72823\n"
     ]
    }
   ],
   "source": [
    "print(f\"Top 10 juegos más parecidos a *** jugador misterioso ***\")\n",
    "idxs = sorted(enumerate(d), key=lambda x: x[1], reverse=False)\n",
    "for i, score in [x for x in idxs if x[0] not in player_ids][:10]:\n",
    "    print(f\"{games_df.iloc[i]['name']}: {score: .5f}\")"
   ]
  },
  {
   "cell_type": "markdown",
   "metadata": {},
   "source": [
    "## **Using a Sentence Transformer**"
   ]
  },
  {
   "cell_type": "code",
   "execution_count": 18,
   "metadata": {},
   "outputs": [
    {
     "name": "stderr",
     "output_type": "stream",
     "text": [
      "Batches: 100%|██████████| 424/424 [00:45<00:00,  9.34it/s]\n"
     ]
    },
    {
     "data": {
      "text/plain": [
       "torch.Size([27075, 27075])"
      ]
     },
     "execution_count": 18,
     "metadata": {},
     "output_type": "execute_result"
    }
   ],
   "source": [
    "model = SentenceTransformer('all-MiniLM-L12-v2')\n",
    "corpus = list(games_df['content'])\n",
    "\n",
    "start = time.time()\n",
    "embedding = model.encode(corpus, batch_size=64, show_progress_bar=True, convert_to_tensor=True)\n",
    "mm = cos_sim(embedding, embedding)\n",
    "mm.shape"
   ]
  },
  {
   "cell_type": "code",
   "execution_count": 16,
   "metadata": {},
   "outputs": [
    {
     "name": "stdout",
     "output_type": "stream",
     "text": [
      "top 10 juegos más parecidos a *** Project Zomboid ***\n",
      "Project Zomboid:  1.00000\n",
      "ZOMBI:  0.70454\n",
      "ZombVR:  0.63422\n",
      "Zombotron:  0.62776\n",
      "Zimbo:  0.61906\n",
      "PROJECT AZRIEL:  0.61701\n",
      "Zombillie:  0.60557\n",
      "Zombo Buster Rising:  0.59703\n",
      "Project X:  0.59168\n",
      "Project Nimbus:  0.59053\n"
     ]
    }
   ],
   "source": [
    "print(f\"top 10 juegos más parecidos a *** {games_df.iloc[1133]['name']} ***\")\n",
    "x = mm[1133].sort()\n",
    "idxs = sorted(zip(x.indices, x.values), key=lambda x: x[1], reverse=True)\n",
    "for i, score in idxs[:10]:\n",
    "    print(f\"{games_df.iloc[int(i)]['name']}: {score: .5f}\")"
   ]
  }
 ],
 "metadata": {
  "kernelspec": {
   "display_name": ".venv",
   "language": "python",
   "name": "python3"
  },
  "language_info": {
   "codemirror_mode": {
    "name": "ipython",
    "version": 3
   },
   "file_extension": ".py",
   "mimetype": "text/x-python",
   "name": "python",
   "nbconvert_exporter": "python",
   "pygments_lexer": "ipython3",
   "version": "3.12.0"
  }
 },
 "nbformat": 4,
 "nbformat_minor": 2
}
